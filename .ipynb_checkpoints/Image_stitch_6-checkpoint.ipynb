{
 "cells": [
  {
   "cell_type": "code",
   "execution_count": 1,
   "id": "2ff31158-fe17-46b8-b6e8-0407a3c4ffca",
   "metadata": {},
   "outputs": [],
   "source": [
    "import numpy as np\n",
    "import matplotlib\n",
    "import os\n",
    "import datetime\n",
    "import scipy.io as sio\n",
    "\n",
    "import matplotlib.cm as cm\n",
    "from matplotlib import colormaps\n",
    "import matplotlib.pyplot as plt\n",
    "from matplotlib.patches import Rectangle\n",
    "\n",
    "import cmocean\n",
    "from geopy import distance\n",
    "\n",
    "import sys \n",
    "from PIL import Image, ImageDraw\n",
    "from PIL.ExifTags import TAGS\n",
    "\n",
    "import skimage"
   ]
  },
  {
   "cell_type": "code",
   "execution_count": 2,
   "id": "5b1bb95b-4096-4ad1-9d2f-5cac103d91ee",
   "metadata": {},
   "outputs": [],
   "source": [
    "def get_data(image_file):\n",
    "    with Image.open(image_file) as image:\n",
    "        data = get_data_im(image)\n",
    "    return data\n",
    "\n",
    "# def get_data_im(image):\n",
    "#     xmp = image.getxmp()['xmpmeta']['RDF']['Description']\n",
    "    \n",
    "#     data = {'lat':float(xmp['GpsLatitude']), 'lon':float(xmp['GpsLongitude']), \n",
    "#             'alt':float(xmp['AbsoluteAltitude']),'Gyaw':float(xmp['GimbalYawDegree']), 'relalt':float(xmp['RelativeAltitude'])}\n",
    "#     return data\n",
    "\n",
    "def get_data_im(image):\n",
    "    xmp = image.getxmp()['xmpmeta']['RDF']['Description']\n",
    "    \n",
    "    data = {'lat':float(xmp['LRFTargetLat']), 'lon':float(xmp['LRFTargetLon']), \n",
    "            'alt':float(xmp['AbsoluteAltitude']),'Gyaw':float(xmp['GimbalYawDegree']), 'relalt':float(xmp['RelativeAltitude'])}\n",
    "    return data"
   ]
  },
  {
   "cell_type": "code",
   "execution_count": 3,
   "id": "e1869c72-75be-45a9-b341-0b7f872062cb",
   "metadata": {},
   "outputs": [],
   "source": [
    "def euclidean(p1, p2):\n",
    "    return np.sqrt((p1[0]-p2[0])**2 + (p1[1]-p2[1])**2)\n",
    "\n",
    "def distancer(point, distance, bearing):    #changes a distance from a point from meters to coordinate units\n",
    "    point2 = distance.distance(meters=distance).destination(point,bearing=bearing)\n",
    "    return euclidean(point1, point2)"
   ]
  },
  {
   "cell_type": "code",
   "execution_count": 4,
   "id": "5d94db9e-b0a9-45f7-9fdd-0d2219b0072c",
   "metadata": {},
   "outputs": [],
   "source": [
    "# w_m = distance.distance((y_top, x_left), (y_top, x_right)).meters\n",
    "# h_m = distance.distance((y_top, x_left), (y_bottom, x_left)).meters\n",
    "\n",
    "# scale = 3*3000/w_m\n",
    "\n",
    "def mtopix(meters, scale):\n",
    "    return int(meters*scale)\n",
    "\n",
    "def coordtopix(point, scale, ref):  #lat log = (y,x)\n",
    "    x = mtopix(distance.distance(ref, (ref[0], point[1])).meters, scale)\n",
    "    y = mtopix(distance.distance(ref, (point[0], ref[1])).meters, scale)\n",
    "   \n",
    "    return (x, y)\n",
    "\n",
    "def centertocorner(coords, im):\n",
    "    return (int(coords[0]-im.size[0]/2), int(coords[1]-im.size[1]/2))\n",
    "\n",
    "def rescale(alt, im, scale, fov = 73.7, tri = (5,4,3)):\n",
    "    d_m = 2*np.tan((fov/2)*np.pi/180)*alt\n",
    "    s = d_m/(tri[0]*1000)\n",
    "    \n",
    "    size = (mtopix(im.size[0]*s, scale), mtopix(im.size[1]*s, scale))\n",
    "    return size\n",
    "    "
   ]
  },
  {
   "cell_type": "code",
   "execution_count": 5,
   "id": "5748e8c7-73e8-4cc8-94f5-ea1246ff69a6",
   "metadata": {},
   "outputs": [],
   "source": [
    "def mapper(path, xpixels = 9000, buffer = 0.002, south_ref=True, reverse=False, alt_offset = 0):\n",
    "    files = os.listdir(path)\n",
    "    \n",
    "    if reverse:\n",
    "        files.reverse()\n",
    "    \n",
    "    x = np.zeros(len(files))\n",
    "    y = np.zeros(len(files))\n",
    "    a = np.zeros(len(files))\n",
    "    g = np.zeros(len(files))\n",
    "\n",
    "    for i,file in enumerate(files):\n",
    "        data = get_data(path+file)\n",
    "    \n",
    "        x[i] = data['lon']\n",
    "        y[i] = data['lat']\n",
    "        a[i] = data['alt']\n",
    "        g[i] = data['Gyaw']\n",
    "\n",
    "    #0 remover\n",
    "    remove = []\n",
    "    for i,lon in enumerate(x):\n",
    "        if lon == 0:\n",
    "            remove.append(i)\n",
    "\n",
    "    files = [file for j, file in enumerate(files) if j not in remove]\n",
    "    x =  np.delete(x, remove)\n",
    "    y =  np.delete(y, remove)\n",
    "    a =  np.delete(a, remove)\n",
    "    g =  np.delete(g, remove)\n",
    "    \n",
    "    x_left = np.min(x) - buffer\n",
    "    x_right = np.max(x) + buffer\n",
    "\n",
    "    y_bottom = np.min(y) - buffer/2\n",
    "    y_top = np.max(y) + buffer/2\n",
    "    \n",
    "    w_m = distance.distance((y_top, x_left), (y_top, x_right)).meters\n",
    "    h_m = distance.distance((y_top, x_left), (y_bottom, x_left)).meters\n",
    "\n",
    "    scale = xpixels/w_m\n",
    "    \n",
    "    w = mtopix(w_m, scale)\n",
    "    h = mtopix(h_m, scale)\n",
    "    \n",
    "    combined = Image.new(mode='RGB', size=(w, h))\n",
    "\n",
    "    for file in files:\n",
    "        with Image.open(path+file) as im:\n",
    "            data = get_data_im(im)\n",
    "            point = (data['lat'], data['lon'])\n",
    "            #alt = data['alt']\n",
    "            \n",
    "            \n",
    "            alt = data['alt'] + alt_offset\n",
    "        \n",
    "            \n",
    "            \n",
    "            #In the future could detect roll and pitch to figure out southref\n",
    "            if south_ref:\n",
    "                angle = -(data['Gyaw']+180)   #south ref clockwise to north ref anticlockwise\n",
    "            else:\n",
    "                angle = data['Gyaw']\n",
    "            \n",
    "            #im_s = im.resize(rescale(alt, im, scale))\n",
    "\n",
    "            im_s = im.resize(rescale(alt, im, scale, fov=84))\n",
    "\n",
    "            mask = Image.new('L', im_s.size, 255)\n",
    "            mask = mask.rotate(angle, expand=True)\n",
    "            im_r = im_s.rotate(angle, expand=True)\n",
    "\n",
    "            target = centertocorner(coordtopix(point, scale, ref=(y_top, x_left)), im_r)\n",
    "\n",
    "            combined.paste(im_r, target, mask=mask)\n",
    "            \n",
    "    return combined, (scale, (w_m, h_m), (x_left, y_top), (x_right, y_bottom))\n",
    "    "
   ]
  },
  {
   "cell_type": "code",
   "execution_count": 13,
   "id": "f3b8177c-cc86-4bf7-aa8a-5ced141594ef",
   "metadata": {},
   "outputs": [],
   "source": [
    "def give_scale(path, xpixels = 9000, buffer = 0.002, reverse=False):\n",
    "    files = os.listdir(path)\n",
    "    \n",
    "    if reverse:\n",
    "        files.reverse()\n",
    "    \n",
    "    x = np.zeros(len(files))\n",
    "    y = np.zeros(len(files))\n",
    "    a = np.zeros(len(files))\n",
    "\n",
    "    for i,file in enumerate(files):\n",
    "        data = get_data(path+file)\n",
    "    \n",
    "        x[i] = data['lon']\n",
    "        y[i] = data['lat']\n",
    "        a[i] = data['alt']\n",
    "\n",
    "    \n",
    "    #print(a)\n",
    "    x_left = np.min(x) - buffer\n",
    "    x_right = np.max(x) + buffer\n",
    "\n",
    "    y_bottom = np.min(y) - buffer/2\n",
    "    y_top = np.max(y) + buffer/2\n",
    "    \n",
    "    w_m = distance.distance((y_top, x_left), (y_top, x_right)).meters\n",
    "    h_m = distance.distance((y_top, x_left), (y_bottom, x_left)).meters\n",
    "\n",
    "    scale = xpixels/w_m\n",
    "    \n",
    "    w = mtopix(w_m, scale)\n",
    "    h = mtopix(h_m, scale)\n",
    "    \n",
    "    return scale, (w_m, h_m), (x_left, y_top), (x_right, y_bottom)\n"
   ]
  },
  {
   "cell_type": "code",
   "execution_count": 7,
   "id": "5c4d8713-79f8-4e7b-8c5b-84234e3aa001",
   "metadata": {
    "tags": []
   },
   "outputs": [],
   "source": [
    "def red_finder(image, method = 4, jump = 10, s = 1.2):\n",
    "    #pixarr = testim.load()\n",
    "\n",
    "    x = int(image.size[0]/jump)\n",
    "    y = int(image.size[1]/jump)\n",
    "\n",
    "    red_grid = np.zeros((y,x))\n",
    "\n",
    "    for i in range(x):\n",
    "        for j in range(y):\n",
    "            rgb = image.getpixel((jump*i,jump*j))\n",
    "\n",
    "            if method == 0:\n",
    "                red_grid[j, i] = (2*rgb[0]-rgb[2]-rgb[1])/(sum(rgb)) if rgb[0] != 0 else -0.5\n",
    "            elif method == 1:\n",
    "                red_grid[j, i] = 1 if rgb[0] > s*rgb[1] and rgb[0] > s*rgb[2] else 0\n",
    "            elif method == 2:\n",
    "                red_grid[j, i] = (2*rgb[0]-rgb[2]-rgb[1])/(sum(rgb)) if sum(rgb) <250 and rgb[0]!=0 else -0.5\n",
    "            elif method == 3:\n",
    "                red_grid[j, i] = (2*rgb[0]-rgb[2]-rgb[1])/(sum(rgb)+1) if rgb[0]< 100 and sum(rgb) < 250 else -0.5\n",
    "            elif method == 4:\n",
    "                red_grid[j, i] = (2*rgb[0]-rgb[2]-rgb[1])/(sum(rgb)) if np.abs(rgb[2]-rgb[1])< 20 and rgb[0] != 0 else -0.5\n",
    "\n",
    "    return red_grid\n",
    "\n",
    "    #red_arr_grid1[j, i] = 1 if rgb[0] > 1.0*rgb[1] and rgb[0] > 1.0*rgb[2] and sum(rgb) < 250 else 0\n",
    "    \n",
    "def contour_finder(array, block = 1, level = 0.5):\n",
    "    reduce_arr = skimage.measure.block_reduce(array,block, np.mean)\n",
    "    contour = skimage.measure.find_contours(reduce_arr, level = level)\n",
    "    \n",
    "    return (contour, reduce_arr)\n",
    "    "
   ]
  },
  {
   "cell_type": "code",
   "execution_count": 8,
   "id": "30030475-9898-47ab-9538-14edacb54cd8",
   "metadata": {},
   "outputs": [],
   "source": [
    "def red_contourer(grid, level = -0.05, block = 10, jump = 10, contour_threshold = 15):\n",
    "\n",
    "    red_lvl = red_finder(grid, jump=jump, method = 4, s = 1)\n",
    "    contours, reduced = contour_finder(red_lvl, block = block, level=level)\n",
    "\n",
    "    contours2 = []\n",
    "    for cont in contours:\n",
    "        if cont.shape[0] > contour_threshold:\n",
    "            contours2.append(cont*block*jump)\n",
    "\n",
    "    drawer = ImageDraw.Draw(grid)\n",
    "\n",
    "    for contour in contours2:\n",
    "        contour_points = []\n",
    "        \n",
    "        for point in contour:\n",
    "            contour_points.append((point[1], point[0]))\n",
    "        \n",
    "        drawer.line(contour_points, fill='yellow', width=30)\n",
    "\n",
    "    return contours2, red_lvl, reduced"
   ]
  },
  {
   "cell_type": "code",
   "execution_count": 9,
   "id": "fe9a9f2e-88b6-44f0-90ec-15ec4a18e1cc",
   "metadata": {},
   "outputs": [],
   "source": [
    "path = r'C:/Oceanography_data/drone_grids/'\n",
    "\n",
    "\n",
    "path1 = path+'grid4n4s5/'\n",
    "path2 = path+'gridall/'\n",
    "\n",
    "path3 = path+'grid2_4n-4s-5_a/'\n",
    "path4 = path+'grid2_4n-4s-5_b/'\n",
    "\n",
    "files1 = os.listdir(path1)\n",
    "files2 = os.listdir(path2)\n",
    "\n",
    "files12 = [files1[0], files1[1]]\n",
    "\n",
    "\n",
    "gridpath = r'C:/Users/rjoft/OneDrive/Desktop/Oceanography_2023/Drone/combined_grids/grid_v3/'\n",
    "gridfiles = os.listdir(gridpath)"
   ]
  },
  {
   "cell_type": "code",
   "execution_count": 14,
   "id": "5feee403-e7f1-4840-bb00-c42f2bf9751c",
   "metadata": {},
   "outputs": [],
   "source": [
    "testgr = mapper(path+'august/test/')[0]"
   ]
  },
  {
   "cell_type": "code",
   "execution_count": null,
   "id": "aad936b6-8566-4645-b750-9ccb3f217ac7",
   "metadata": {},
   "outputs": [],
   "source": []
  },
  {
   "cell_type": "code",
   "execution_count": 12,
   "id": "0ec2c9fc-4f4a-44d7-9214-91cca6987385",
   "metadata": {},
   "outputs": [
    {
     "data": {
      "text/plain": [
       "['combined_grid1a_v3.jpg',\n",
       " 'combined_grid1a_v3_reverse.jpg',\n",
       " 'combined_grid1b_v3.jpg',\n",
       " 'combined_grid1b_v3_reverse.jpg',\n",
       " 'combined_grid2a_v3.jpg',\n",
       " 'combined_grid2a_v3_reverse.jpg',\n",
       " 'combined_grid2b_v3.jpg',\n",
       " 'combined_grid2b_v3_reverse.jpg']"
      ]
     },
     "execution_count": 12,
     "metadata": {},
     "output_type": "execute_result"
    }
   ],
   "source": [
    "gridfiles"
   ]
  },
  {
   "cell_type": "code",
   "execution_count": 17,
   "id": "89238717-f819-4af1-8c26-3f9214c58dd5",
   "metadata": {},
   "outputs": [],
   "source": [
    "with Image.open(gridpath+gridfiles[0]) as grid1:\n",
    "    grid1_array = np.asarray(grid1)"
   ]
  },
  {
   "cell_type": "code",
   "execution_count": 26,
   "id": "7cb62b93-2090-4409-99c5-e3a01c18c4d4",
   "metadata": {},
   "outputs": [
    {
     "data": {
      "text/plain": [
       "array([1, 1, 1, 1])"
      ]
     },
     "execution_count": 26,
     "metadata": {},
     "output_type": "execute_result"
    }
   ],
   "source": [
    "np.array([1,1,1,1])"
   ]
  },
  {
   "cell_type": "code",
   "execution_count": null,
   "id": "8ded1b5e-dc9e-4ad9-ac10-4847d2565933",
   "metadata": {},
   "outputs": [],
   "source": [
    "scio"
   ]
  }
 ],
 "metadata": {
  "kernelspec": {
   "display_name": "Python 3 (ipykernel)",
   "language": "python",
   "name": "python3"
  },
  "language_info": {
   "codemirror_mode": {
    "name": "ipython",
    "version": 3
   },
   "file_extension": ".py",
   "mimetype": "text/x-python",
   "name": "python",
   "nbconvert_exporter": "python",
   "pygments_lexer": "ipython3",
   "version": "3.12.1"
  }
 },
 "nbformat": 4,
 "nbformat_minor": 5
}
